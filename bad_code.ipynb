{
 "cells": [
  {
   "cell_type": "code",
   "execution_count": null,
   "metadata": {},
   "outputs": [],
   "source": [
    "from itertools import chain\n",
    "p = list(route_df.route)\n",
    "p_set = set(list(chain.from_iterable(p)))\n",
    "p_df = pd.DataFrame({'id' : list(p_set)})\n",
    "p_df['x'] = p_df.id.apply(lambda x: GG.nodes[x]['x'])\n",
    "p_df['y'] = p_df.id.apply(lambda x: GG.nodes[x]['y'])\n",
    "p_df"
   ]
  },
  {
   "cell_type": "code",
   "execution_count": null,
   "metadata": {},
   "outputs": [],
   "source": [
    "routes = ox.k_shortest_paths(GG, 278364190, 291750883, k=30, weight=\"length\")\n",
    "list(routes)\n",
    "\n",
    "route = nx.shortest_path(GG, 278364190, 291750883)\n",
    "route\n",
    "fig, ax = ox.plot_graph_routes(GG, list(df_1[['nodes']].values[0]), route_colors='r', route_linewidth=6, node_size=0)\n",
    "fig, ax = ox.plot_graph_route(full, list(df_1[['nodes']].values[0])[0], route_linewidth=6, node_size=0, bgcolor='k')\n",
    "\n"
   ]
  },
  {
   "cell_type": "code",
   "execution_count": null,
   "metadata": {},
   "outputs": [],
   "source": [
    "GG = ox.graph_from_place('Tallin', retain_all=True, simplify = True, network_type='drive')\n",
    "\n",
    "df_1 = full_feature_df[full_feature_df['kind_of'] == 'building'].reset_index(drop=True)\n",
    "df_1 = df_1[df_1['place'] == 'Tallin'].reset_index(drop=True)\n",
    "one_route = []\n",
    "list_f = []\n",
    "list_t = []\n",
    "for i in range(df_1.shape[0]):\n",
    "    for j in range(i + 1, df_1.shape[0]):\n",
    "        one_route.append(nx.shortest_path(full, df_1['new_nodes'].iloc[i], df_1['new_nodes'].iloc[j]))\n",
    "        list_f.append(df_1['name'].iloc[i])\n",
    "        list_t.append(df_1['name'].iloc[j])\n",
    "\n",
    "route_df = pd.DataFrame({'from' : list_f, 'to' : list_t, 'route' : one_route})\n",
    "route_df.sample(2)\n",
    "\n",
    "\n",
    "\n",
    "routes = ox.k_shortest_paths(GG, 278364190, 291750883, k=30, weight=\"length\")\n",
    "# fig, ax = ox.plot_graph_routes(\n",
    "#     GG, list(routes), route_colors=\"y\",\n",
    "#     route_linewidth=4, node_size=0)\n",
    "df_1.head(2)"
   ]
  },
  {
   "cell_type": "markdown",
   "metadata": {},
   "source": [
    "**Построение графа с узлами в нужных точках**"
   ]
  },
  {
   "cell_type": "code",
   "execution_count": null,
   "metadata": {},
   "outputs": [],
   "source": [
    "list_graphs = []\n",
    "\n",
    "for i in range(route_df.route.shape[0]):\n",
    "    \n",
    "    r = route_df['route'].values[i]\n",
    "\n",
    "    rr = pd.DataFrame({'new_nodes' : r})\n",
    "    rr['osmid'] = rr['new_nodes']\n",
    "    rr = rr.set_index('osmid')\n",
    "    rr['x'] = rr.new_nodes.apply(lambda x: GG.nodes[x]['x'])\n",
    "    rr['y'] = rr.new_nodes.apply(lambda x: GG.nodes[x]['y'])\n",
    "    rr\n",
    "\n",
    "    edge_dict = {'u': rr.new_nodes[:-1].values, 'v': rr.new_nodes[1:].values, 'key': 0}\n",
    "    edge_gdf = gd.GeoDataFrame(edge_dict, crs=None)\n",
    "    edge_gdf = edge_gdf.set_index(['u', 'v', 'key'])\n",
    "\n",
    "    graph_attrs = {\"crs\": \"WGS84\"}\n",
    "    multi_digraph_aero = ox.convert.graph_from_gdfs(\n",
    "        rr, edge_gdf, graph_attrs=graph_attrs)\n",
    "    \n",
    "    list_graphs.append(multi_digraph_aero)\n",
    "    \n",
    "my_graph = list_graphs[0]\n",
    "for i in range(1, len(list_graphs)):\n",
    "    my_graph = nx.compose_all([my_graph, list_graphs[i]])\n",
    "\n",
    "ox.plot_graph(my_graph)"
   ]
  },
  {
   "cell_type": "code",
   "execution_count": null,
   "metadata": {},
   "outputs": [],
   "source": [
    "geo_dataframe = ox.graph_to_gdfs(\n",
    "    my_graph, nodes=True, edges=True,\n",
    "    node_geometry=False, fill_edge_geometry=False)\n",
    "\n",
    "nodes, edges = ox.graph_to_gdfs(my_graph)\n",
    "\n",
    "list_nodes = list(df_1['new_nodes'].values)\n",
    "\n",
    "n = nodes[nodes['new_nodes'].isin(list_nodes)]\n",
    "g = ox.convert.graph_from_gdfs(n, edges, graph_attrs=None)\n",
    "ox.plot_graph(g)"
   ]
  },
  {
   "cell_type": "markdown",
   "metadata": {},
   "source": []
  },
  {
   "cell_type": "code",
   "execution_count": null,
   "metadata": {},
   "outputs": [],
   "source": [
    "''' Перепись функции тегов на цикл '''\n",
    "\n",
    "name_city = 'Tallin'\n",
    "gdf = ox.features_from_place(name_city, tags_build).reset_index()\n",
    "gdf = gdf[['element_type', 'osmid']]\n",
    "gdf['n_osmid'] = gdf['element_type'].apply(lambda x: x[0]) + gdf['osmid'].astype(str)\n",
    "\n",
    "list_lat_lon = []\n",
    "try:\n",
    "    for i in range(gdf.n_osmid.shape[0]):\n",
    "        bb = ox.geocode_to_gdf(gdf.n_osmid.iloc[i], by_osmid=True)[['lat', 'lon']]\n",
    "        list_lat_lon.append(bb.iloc[:])\n",
    "    dfs = pd.concat(list_lat_lon, axis=0).reset_index(drop=True)\n",
    "    gdf = gdf.merge(dfs, on=dfs.index).drop('key_0', axis=1)\n",
    "    gdf = gdf[['lat', 'lon']]\n",
    "    gdf['kind_of'] = list(tags_build.keys())[0]\n",
    "except:\n",
    "    pass\n",
    "\n",
    "\n",
    "name_city = 'Tallin'\n",
    "gdf = ox.features_from_place(name_city, tags_build).reset_index()\n",
    "gdf = gdf[['element_type', 'osmid']]\n",
    "gdf['n_osmid'] = gdf['element_type'].apply(lambda x: x[0]) + gdf['osmid'].astype(str)\n",
    "\n",
    "list_lat_lon = []\n",
    "try:\n",
    "    for i in range(gdf.n_osmid.shape[0]):\n",
    "        bb = ox.geocode_to_gdf(gdf.n_osmid.iloc[i], by_osmid=True)[['lat', 'lon']]\n",
    "        list_lat_lon.append(bb.iloc[:])\n",
    "    dfs = pd.concat(list_lat_lon, axis=0).reset_index(drop=True)\n",
    "    gdf = gdf.merge(dfs, on=dfs.index).drop('key_0', axis=1)\n",
    "    gdf = gdf[['lat', 'lon']]\n",
    "    gdf['kind_of'] = list(tags_build.keys())[0]\n",
    "except:\n",
    "    pass\n",
    "gdf"
   ]
  },
  {
   "cell_type": "code",
   "execution_count": null,
   "metadata": {},
   "outputs": [],
   "source": [
    "    # query  = \"INSERT INTO %s(%s) VALUES(%%s,%%s,%%s,%%s)\" % (table, cols)\n",
    "\n",
    "    # query  = \"INSERT INTO %s(%s) VALUES(%%s,%%s,%%s, (ST_GeomFromEWKT(SRID=4269;%%s)))\" % (table, cols)\n",
    "    # query = \"\"\"INSERT INTO %s(%s) VALUES (%%s, %%s, %%s, ST_GeomFromWKB(%%s::geometry, 4326))\"\"\" % (table, cols)\n",
    "    # insert_query = \"\"\"INSERT INTO %s(%s) VALUES (ST_GeomFromWKB(%(geom)s::geometry, 4326), %(total_time)s, %(id)s)\"\"\"\n",
    "\n",
    "    query = \"INSERT INTO example_table_nodes (osmid, x, y, geometry) VALUES(%s,%s,%s, (ST_GeomFromEWKT(SRID=4269;%s)))\" % (tuples[0], tuples[1], tuples[2], tuples[3])\n",
    "    query = \"INSERT INTO example_table_nodes (osmid, x, y, geometry) VALUES(%s,%s,%s, (ST_GeomFromEWKT(SRID=4269;%s)))\"\n",
    "    # print(\"INSERT INTO %s(%s) VALUES(%s,%s,%s, (ST_GeomFromEWKT(SRID=4269;%s)))\" % (table, cols, tuples))"
   ]
  },
  {
   "cell_type": "code",
   "execution_count": null,
   "metadata": {},
   "outputs": [],
   "source": [
    "    # arr_x = df.to_numpy()[:, 1]\n",
    "    # arr_y = df.to_numpy()[:, 2]\n",
    "    # arr_id = df.to_numpy()[:, 0]\n",
    "    # arr_g = df.to_numpy()[:, 3]\n",
    "    # query  = \"INSERT INTO %s(%s) VALUES(%%s,%%s,%%s, (ST_GeomFromEWKT(SRID=4269;%%s)))\" % (table, cols)\n",
    "    # query = \"\"\"INSERT INTO %s(%s) VALUES (%%s, %%s, %%s, ST_GeomFromWKB(%%s::geometry, 4326))\"\"\" % (table, cols)\n",
    "    # insert_query = \"\"\"INSERT INTO %s(%s) VALUES (ST_GeomFromWKB(%(geom)s::geometry, 4326), %(total_time)s, %(id)s)\"\"\"\n",
    "\n",
    "    # query = \"INSERT INTO example_table_nodes (osmid, x, y, geometry) VALUES(%s,%s,%s, (ST_GeomFromEWKT(SRID=4269;%s)))\" % (tuples[0], tuples[1], tuples[2], tuples[3])\n",
    "    # query = \"INSERT INTO example_table_nodes (osmid, x, y, geometry) VALUES({},{},{}, (ST_SetSRID(ST_POINT({}, {}), 4326)))\".format(arr_id[0], arr_x[0], arr_y[0], arr_x[0], arr_y[0])\n",
    "    \n",
    "    # query = \"INSERT INTO example_table_nodes (osmid, x, y, geometry) VALUES({},{},{},ST_GeomFromText('POINT(-71.060316 48.432044), 4326)')\".format(arr_id[0], arr_x[0], arr_y[0])\n",
    "    # query = \"\"\"INSERT INTO example_table_nodes(osmid, x, y, geometry) VALUES({},{},{},ST_SetSRID(ST_MakePoint(-71.060316 48.432044), 4326))\"\"\".format(arr_id[0], arr_x[0], arr_y[0])\n",
    "    \n",
    "    # query = \"\"\"INSERT INTO example_table_nodes(geom) VALUES (ST_AsText('POINT (24.7071351 59.4619055)'))\"\"\"\n",
    "    # print(\"INSERT INTO %s(%s) VALUES(%s,%s,%s, (ST_GeomFromEWKT(SRID=4269;%s)))\" % (table, cols, tuples))\n"
   ]
  },
  {
   "cell_type": "code",
   "execution_count": null,
   "metadata": {},
   "outputs": [],
   "source": [
    "from shapely.wkt import loads\n",
    "# df_nodes_riga['geometry'] = df_nodes_riga['geometry'].apply(lambda x: loads(x))\n",
    "# df_edges_riga['geometry'] = df_edges_riga['geometry'].apply(lambda x: loads(x))"
   ]
  },
  {
   "cell_type": "code",
   "execution_count": null,
   "metadata": {},
   "outputs": [],
   "source": [
    "import osmnx as ox\n",
    "import pandas as pd\n",
    "from shapely import wkt\n",
    "import geopandas as gd\n",
    "\n",
    "gdf_nodes = pd.read_csv('data/nodes_tallin.csv')\n",
    "gdf_edges = pd.read_csv('data/edges_tallin.csv')\n",
    "\n",
    "gdf_nodes_new = gdf_nodes.set_index('osmid').drop(['new_nodes'], axis=1)\n",
    "gdf_nodes_new = gdf_nodes_new[['y', 'x', 'geometry']]\n",
    "gdf_edges_new = gdf_edges.set_index(['u', 'v', 'key'])\n",
    "\n",
    "gdf_edges_new['geometry'] = gdf_edges_new['geometry'].apply(wkt.loads)\n",
    "gdf_nodes_new['geometry'] = gdf_nodes_new['geometry'].apply(wkt.loads)\n",
    "\n",
    "df_edges = gd.GeoDataFrame(gdf_edges_new, crs = 'WGS84')\n",
    "df_nodes = gd.GeoDataFrame(gdf_nodes_new, crs = 'WGS84')\n",
    "\n",
    "G = ox.graph_from_gdfs(df_nodes, df_edges)\n",
    "\n",
    "ox.plot_graph(G)"
   ]
  }
 ],
 "metadata": {
  "kernelspec": {
   "display_name": ".venv",
   "language": "python",
   "name": "python3"
  },
  "language_info": {
   "name": "python",
   "version": "3.9.9"
  }
 },
 "nbformat": 4,
 "nbformat_minor": 2
}

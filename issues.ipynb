{
 "cells": [
  {
   "cell_type": "markdown",
   "metadata": {},
   "source": [
    "https://github.com/citec-spbu/Urban-Transit-Network-Analysis\n",
    "\n",
    "https://github.com/citec-spbu/Urban-Topology-Analysis-Service\n",
    "\n",
    "https://github.com/citec-spbu/Urban-Public-Transport-Analysis-Service\n",
    "\n",
    "1. Какие открытые БД потребуются для построения вышеописанного графа?\n",
    "2. Каким образом происходит загрузка данных о городской сети из БД в имеющихся проектах?\n",
    "3. Какие виды графов строятся из загружаемых данных? Что в качестве вершин и что в качестве рёбер?\n",
    "4. Какие метрики для построенных графов вычисляются? (меры центральности, степенной закон и пр.)?\n",
    "\n",
    "1. https://kudikina.ru \n",
    "\n",
    "\thttps://extract.bbbike.org\n",
    "\n",
    "\thttps://www.flightradar24.com/ \n",
    "\n",
    "\thttps://www.marinetraffic.com/en\n",
    "    \n",
    "\tOpen Steet Map\n",
    "2. методы public_transport_osmnx OSMnx\n",
    "\toverpass-api\n",
    "\tBeautifulSoap\n",
    "3. Остановки транспортных средств (вершины), пути между остановками (ребра)\n",
    "4. Поиска степнного закона (degrees.ipynb), вычисления мер центральности (centrality.ipynb) и betweenness'а (https://geoffboeing.com/2016/11/osmnx-python-street-networks/)"
   ]
  },
  {
   "cell_type": "markdown",
   "metadata": {},
   "source": [
    "https://geoffboeing.com/2016/11/osmnx-python-street-networks/"
   ]
  },
  {
   "cell_type": "markdown",
   "metadata": {},
   "source": [
    "**Кое-какие вопросы со StackOverflow**\n",
    "\n",
    " - https://stackoverflow.com/questions/72523683/add-node-between-existing-edge-in-networkx-graph-generated-by-osmnx\n",
    " - https://stackoverflow.com/questions/76483447/adding-custom-nodes-in-osmnx-map\n",
    " - https://stackoverflow.com/questions/74008354/how-to-create-networkx-graph-with-n-nodes-osmnx-compatible-from-shapely-object\n",
    "\n",
    "**По визуализации**\n",
    " \n",
    " - https://stackoverflow.com/questions/45771809/how-to-extract-and-visualize-data-from-osm-file-in-python\n",
    " - https://habr.com/ru/companies/skillfactory/articles/686688/\n",
    " - https://newtechaudit.ru/vizualizacziya-grafa-vzaimosvyazej-na-karte/\n",
    " - https://habr.com/ru/companies/skillfactory/articles/654239/\n",
    "\n",
    "**По БД**\n",
    "\n",
    " - https://gis.stackexchange.com/questions/104452/building-a-graph-from-osm"
   ]
  },
  {
   "cell_type": "markdown",
   "metadata": {},
   "source": [
    "1. Знакомство с проектами прошлых лет\n",
    "2. Знакомство с OSMnx\n",
    "3. Отображение карты СПб\n",
    "4. Отображение геоинформации об СПб двумя способами\n",
    "5. Загрузка информации об морских портах СПб и обработка данных\n",
    "6. Загрузка информации об аэродромах и аэропортах СПб и обработка данных"
   ]
  },
  {
   "cell_type": "markdown",
   "metadata": {},
   "source": [
    "___"
   ]
  },
  {
   "cell_type": "markdown",
   "metadata": {},
   "source": [
    "14. Визуализация узлов на карте - ПЕРЕВОЗЧИКОВ\n",
    "15. Изучение и конфигурация БД и загрузка некоторых графов - ШЛУНЕВ"
   ]
  }
 ],
 "metadata": {
  "language_info": {
   "name": "python"
  }
 },
 "nbformat": 4,
 "nbformat_minor": 2
}

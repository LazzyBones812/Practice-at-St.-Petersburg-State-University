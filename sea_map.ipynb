{
 "cells": [
  {
   "cell_type": "markdown",
   "metadata": {},
   "source": [
    "https://developer.searoutes.com/recipes\n",
    "\n",
    "https://osmdata.openstreetmap.de/data/water-polygons.html"
   ]
  },
  {
   "cell_type": "code",
   "execution_count": 117,
   "metadata": {},
   "outputs": [
    {
     "data": {
      "text/plain": [
       "{'length': 19072.8293,\n",
       " 'coordinate_path': [[31.23, 121.47],\n",
       "  [30.7324, 121.8274],\n",
       "  [30.8345, 122.6776],\n",
       "  [31.3, 122.9],\n",
       "  [33.5458, 126.5397],\n",
       "  [34.2, 127.6],\n",
       "  [35.0, 129.2],\n",
       "  [38.2106, 134.0843],\n",
       "  [40.0, 137.2662],\n",
       "  [41.2, 139.4],\n",
       "  [41.9, 141.25],\n",
       "  [41.9, 143.3],\n",
       "  [43.2, 146.0],\n",
       "  [46.0975, 153.3524],\n",
       "  [46.1961, 153.6877],\n",
       "  [47.4449, 157.9333],\n",
       "  [48.1099, 160.1942],\n",
       "  [48.3248, 160.925],\n",
       "  [48.4755, 161.4373],\n",
       "  [50.0, 169.0188],\n",
       "  [50.1542, 169.7857],\n",
       "  [50.2383, 170.2039],\n",
       "  [50.4839, 172.3546],\n",
       "  [50.6878, 174.1401],\n",
       "  [51.3, 179.5],\n",
       "  [51.6, -176.7],\n",
       "  [51.2951, -171.5552],\n",
       "  [51.0966, -168.2056],\n",
       "  [51.0799, -168.081],\n",
       "  [50.7515, -165.623],\n",
       "  [50.3734, -162.7942],\n",
       "  [50.0, -160.0],\n",
       "  [49.1714, -154.5354],\n",
       "  [48.9508, -153.4555],\n",
       "  [48.5698, -151.5903],\n",
       "  [48.2452, -150.0011],\n",
       "  [48.0972, -149.2766],\n",
       "  [47.6332, -147.484],\n",
       "  [46.7971, -144.2543],\n",
       "  [46.6354, -143.7413],\n",
       "  [45.4566, -140.0027],\n",
       "  [45.2935, -139.4855],\n",
       "  [44.1117, -136.3287],\n",
       "  [43.6057, -134.9769],\n",
       "  [43.4858, -134.7002],\n",
       "  [42.4942, -132.4113],\n",
       "  [42.4421, -132.2909],\n",
       "  [40.8893, -130.8343],\n",
       "  [40.0, -130.0],\n",
       "  [39.492, -129.4495],\n",
       "  [36.6588, -126.3795],\n",
       "  [36.4808, -126.1866],\n",
       "  [36.1204, -125.7961],\n",
       "  [35.4635, -125.0843],\n",
       "  [35.1023, -124.6929],\n",
       "  [35.0929, -124.6842],\n",
       "  [32.8767, -122.6459],\n",
       "  [32.4679, -122.2699],\n",
       "  [30.0, -120.0],\n",
       "  [28.6964, -117.4914],\n",
       "  [27.9893, -116.1305],\n",
       "  [24.926, -113.4508],\n",
       "  [22.3104, -111.0067],\n",
       "  [21.3951, -109.8326],\n",
       "  [20.1502, -108.2357],\n",
       "  [20.0, -108.0446],\n",
       "  [19.3411, -107.2063],\n",
       "  [18.0, -105.5],\n",
       "  [15.6306, -99.9134],\n",
       "  [15.5163, -99.644],\n",
       "  [12.9057, -93.9243],\n",
       "  [11.4888, -90.9913],\n",
       "  [10.5804, -89.1108],\n",
       "  [10.1973, -88.3178],\n",
       "  [10.0358, -87.9974],\n",
       "  [10.0, -87.9263],\n",
       "  [7.4167, -82.8],\n",
       "  [6.9, -81.4],\n",
       "  [7.0, -80.0],\n",
       "  [8.6, -79.5],\n",
       "  [8.7966, -79.4941],\n",
       "  [8.9927, -79.5859],\n",
       "  [9.036, -79.6417],\n",
       "  [9.1064, -79.6893],\n",
       "  [9.1182, -79.7414],\n",
       "  [9.1113, -79.7697],\n",
       "  [9.1183, -79.8032],\n",
       "  [9.173, -79.8213],\n",
       "  [9.2082, -79.9006],\n",
       "  [9.75, -80.0],\n",
       "  [10.0, -79.8603],\n",
       "  [13.976, -77.6387],\n",
       "  [14.1387, -77.5478],\n",
       "  [15.7542, -76.6041],\n",
       "  [16.9584, -75.9006],\n",
       "  [17.8011, -75.4083],\n",
       "  [18.5, -75.0],\n",
       "  [20.0, -73.9],\n",
       "  [20.1787, -73.8994],\n",
       "  [21.2321, -74.4855],\n",
       "  [21.9679, -74.8949],\n",
       "  [25.3577, -76.7809],\n",
       "  [25.8573, -77.1122],\n",
       "  [26.6629, -77.6465],\n",
       "  [26.6906, -77.6648],\n",
       "  [26.9702, -77.8502],\n",
       "  [27.0505, -77.9035],\n",
       "  [27.4582, -78.1738],\n",
       "  [28.0696, -78.5793],\n",
       "  [28.2587, -78.7046],\n",
       "  [28.711, -79.0046],\n",
       "  [29.135, -79.2858],\n",
       "  [30.0, -79.8594],\n",
       "  [30.3972, -80.1228],\n",
       "  [30.8186, -80.066],\n",
       "  [31.2087, -80.055],\n",
       "  [31.6806, -80.0292],\n",
       "  [32.08, -81.09]]}"
      ]
     },
     "execution_count": 117,
     "metadata": {},
     "output_type": "execute_result"
    }
   ],
   "source": [
    "# Use a maritime network geograph\n",
    "from scgraph.geographs.marnet import marnet_geograph\n",
    "\n",
    "# Get the shortest path between \n",
    "output = marnet_geograph.get_shortest_path(\n",
    "    origin_node={\"latitude\": 31.23,\"longitude\": 121.47}, \n",
    "    destination_node={\"latitude\": 32.08,\"longitude\": -81.09}\n",
    ")\n",
    "output\n",
    "# # Show your output path\n",
    "# print(str([[i['latitude'],i['longitude']] for i in output['coordinate_path']]))\n",
    "\n",
    "# # Show the length\n",
    "# print('Length: ',output['length']) #=> Length:  19596.4653"
   ]
  },
  {
   "cell_type": "markdown",
   "metadata": {},
   "source": [
    "___"
   ]
  },
  {
   "cell_type": "code",
   "execution_count": 110,
   "metadata": {},
   "outputs": [
    {
     "ename": "MarineTrafficRequestApiException",
     "evalue": "Request errors: code 10: SERVICE KEY NOT FOUND",
     "output_type": "error",
     "traceback": [
      "\u001b[1;31m---------------------------------------------------------------------------\u001b[0m",
      "\u001b[1;31mMarineTrafficRequestApiException\u001b[0m          Traceback (most recent call last)",
      "Cell \u001b[1;32mIn[110], line 5\u001b[0m\n\u001b[0;32m      1\u001b[0m \u001b[38;5;28;01mfrom\u001b[39;00m \u001b[38;5;21;01mmarinetrafficapi\u001b[39;00m \u001b[38;5;28;01mimport\u001b[39;00m MarineTrafficApi\n\u001b[0;32m      3\u001b[0m api \u001b[38;5;241m=\u001b[39m MarineTrafficApi(api_key\u001b[38;5;241m=\u001b[39m\u001b[38;5;124m\"\u001b[39m\u001b[38;5;124m__your_api_key_here__\u001b[39m\u001b[38;5;124m\"\u001b[39m)\n\u001b[1;32m----> 5\u001b[0m vessel_positions \u001b[38;5;241m=\u001b[39m \u001b[43mapi\u001b[49m\u001b[38;5;241;43m.\u001b[39;49m\u001b[43mvessel_historical_track\u001b[49m\u001b[43m(\u001b[49m\u001b[43mperiod\u001b[49m\u001b[38;5;241;43m=\u001b[39;49m\u001b[38;5;124;43m'\u001b[39;49m\u001b[38;5;124;43mdaily\u001b[39;49m\u001b[38;5;124;43m'\u001b[39;49m\u001b[43m,\u001b[49m\u001b[43m \u001b[49m\n\u001b[0;32m      6\u001b[0m \u001b[43m                                               \u001b[49m\u001b[43mdays\u001b[49m\u001b[38;5;241;43m=\u001b[39;49m\u001b[38;5;241;43m3\u001b[39;49m\u001b[43m,\u001b[49m\u001b[43m \u001b[49m\n\u001b[0;32m      7\u001b[0m \u001b[43m                                               \u001b[49m\u001b[43mmmsi\u001b[49m\u001b[38;5;241;43m=\u001b[39;49m\u001b[38;5;241;43m241486000\u001b[39;49m\u001b[43m)\u001b[49m\n\u001b[0;32m      9\u001b[0m \u001b[38;5;66;03m# list all possible params with:\u001b[39;00m\n\u001b[0;32m     10\u001b[0m MarineTrafficApi\u001b[38;5;241m.\u001b[39mprint_params_for(\u001b[38;5;124m'\u001b[39m\u001b[38;5;124mvessel_historical_track\u001b[39m\u001b[38;5;124m'\u001b[39m)\n",
      "File \u001b[1;32mc:\\mArt\\dataScience\\Practice_3sem\\project's\\1\\.venv\\lib\\site-packages\\marinetrafficapi\\bind.py:204\u001b[0m, in \u001b[0;36mbind_request.<locals>.call\u001b[1;34m(client, *path_params, **query_params)\u001b[0m\n\u001b[0;32m    202\u001b[0m \u001b[38;5;28;01mwith\u001b[39;00m Debug(client\u001b[38;5;241m=\u001b[39mclient) \u001b[38;5;28;01mas\u001b[39;00m debug:\n\u001b[0;32m    203\u001b[0m     request \u001b[38;5;241m=\u001b[39m Request(client, debug, \u001b[38;5;241m*\u001b[39mpath_params, \u001b[38;5;241m*\u001b[39m\u001b[38;5;241m*\u001b[39mquery_params)\n\u001b[1;32m--> 204\u001b[0m     \u001b[38;5;28;01mreturn\u001b[39;00m \u001b[43mrequest\u001b[49m\u001b[38;5;241;43m.\u001b[39;49m\u001b[43mcall\u001b[49m\u001b[43m(\u001b[49m\u001b[43m)\u001b[49m\n",
      "File \u001b[1;32mc:\\mArt\\dataScience\\Practice_3sem\\project's\\1\\.venv\\lib\\site-packages\\marinetrafficapi\\bind.py:188\u001b[0m, in \u001b[0;36mbind_request.<locals>.Request.call\u001b[1;34m(self)\u001b[0m\n\u001b[0;32m    186\u001b[0m \u001b[38;5;28mself\u001b[39m\u001b[38;5;241m.\u001b[39murl \u001b[38;5;241m=\u001b[39m \u001b[38;5;28mself\u001b[39m\u001b[38;5;241m.\u001b[39m_prepare_url()\n\u001b[0;32m    187\u001b[0m status_code, response \u001b[38;5;241m=\u001b[39m \u001b[38;5;28mself\u001b[39m\u001b[38;5;241m.\u001b[39m_do_request(\u001b[38;5;28mself\u001b[39m\u001b[38;5;241m.\u001b[39murl)\n\u001b[1;32m--> 188\u001b[0m \u001b[38;5;28;01mreturn\u001b[39;00m \u001b[38;5;28;43mself\u001b[39;49m\u001b[38;5;241;43m.\u001b[39;49m\u001b[43m_process_response\u001b[49m\u001b[43m(\u001b[49m\u001b[43mstatus_code\u001b[49m\u001b[43m,\u001b[49m\u001b[43m \u001b[49m\u001b[43mresponse\u001b[49m\u001b[43m)\u001b[49m\n",
      "File \u001b[1;32mc:\\mArt\\dataScience\\Practice_3sem\\project's\\1\\.venv\\lib\\site-packages\\marinetrafficapi\\bind.py:173\u001b[0m, in \u001b[0;36mbind_request.<locals>.Request._process_response\u001b[1;34m(self, status_code, response)\u001b[0m\n\u001b[0;32m    167\u001b[0m     error_codes \u001b[38;5;241m=\u001b[39m \u001b[38;5;124m'\u001b[39m\u001b[38;5;124m'\u001b[39m\u001b[38;5;241m.\u001b[39mjoin([\u001b[38;5;124m'\u001b[39m\u001b[38;5;124mcode \u001b[39m\u001b[38;5;132;01m{}\u001b[39;00m\u001b[38;5;124m: \u001b[39m\u001b[38;5;132;01m{}\u001b[39;00m\u001b[38;5;124m'\u001b[39m\u001b[38;5;241m.\u001b[39mformat(\n\u001b[0;32m    168\u001b[0m         error[ResponseConst\u001b[38;5;241m.\u001b[39mCODE], error[ResponseConst\u001b[38;5;241m.\u001b[39mDETAIL])\n\u001b[0;32m    169\u001b[0m                            \u001b[38;5;28;01mfor\u001b[39;00m error \u001b[38;5;129;01min\u001b[39;00m error_response[\u001b[38;5;124m'\u001b[39m\u001b[38;5;124merrors\u001b[39m\u001b[38;5;124m'\u001b[39m]])\n\u001b[0;32m    171\u001b[0m     msg \u001b[38;5;241m=\u001b[39m \u001b[38;5;124m'\u001b[39m\u001b[38;5;124mRequest errors: \u001b[39m\u001b[38;5;132;01m{}\u001b[39;00m\u001b[38;5;124m'\u001b[39m\u001b[38;5;241m.\u001b[39mformat(error_codes)\n\u001b[1;32m--> 173\u001b[0m     \u001b[38;5;28;01mraise\u001b[39;00m MarineTrafficRequestApiException(msg)\n\u001b[0;32m    174\u001b[0m \u001b[38;5;28;01melse\u001b[39;00m:\n\u001b[0;32m    175\u001b[0m     \u001b[38;5;28mself\u001b[39m\u001b[38;5;241m.\u001b[39mdebug\u001b[38;5;241m.\u001b[39mok(ResponseConst\u001b[38;5;241m.\u001b[39mSTATUS_CODE, status_code)\n",
      "\u001b[1;31mMarineTrafficRequestApiException\u001b[0m: Request errors: code 10: SERVICE KEY NOT FOUND"
     ]
    }
   ],
   "source": [
    "from marinetrafficapi import MarineTrafficApi\n",
    "\n",
    "api = MarineTrafficApi(api_key=\"__your_api_key_here__\")\n",
    "\n",
    "vessel_positions = api.vessel_historical_track(period='daily', \n",
    "                                               days=3, \n",
    "                                               mmsi=241486000)\n",
    "\n",
    "# list all possible params with:\n",
    "MarineTrafficApi.print_params_for('vessel_historical_track')\n",
    "\n",
    "for position in vessel_positions.models:\n",
    "\tposition.mmsi.value\n",
    "\tposition.status.value\n",
    "\tposition.speed.value\n",
    "\tposition.longitude.value\n",
    "\tposition.latitude.value\n",
    "\tposition.course.value\n",
    "\tposition.heading.value\n",
    "\tposition.timestamp.value\n",
    "\tposition.ship_id.value\n",
    "\tposition.wind_angle.value"
   ]
  },
  {
   "cell_type": "markdown",
   "metadata": {},
   "source": [
    "___"
   ]
  },
  {
   "cell_type": "markdown",
   "metadata": {},
   "source": [
    "**Применение попытки с использованием библиотеки searoute**"
   ]
  },
  {
   "cell_type": "code",
   "execution_count": 113,
   "metadata": {},
   "outputs": [
    {
     "name": "stdout",
     "output_type": "stream",
     "text": [
      "996.5 km\n"
     ]
    }
   ],
   "source": [
    "import searoute as sr\n",
    "\n",
    "lon_from = 3.0489 # 24.774418\n",
    "lat_from = 43.3524 # 59.444022\n",
    "lon_to = 14.2601432 # 24.973081\n",
    "lat_to = 40.843073 # 60.169307\n",
    "\n",
    "origin = [lon_from, lat_from]\n",
    "destination = [lon_to, lat_to]\n",
    "\n",
    "\n",
    "route = sr.searoute(origin, destination)\n",
    "print(\"{:.1f} {}\".format(route.properties['length'], route.properties['units']))\n",
    "routeMiles = sr.searoute(origin, destination, units=\"km\")\n",
    "\n",
    "my_nodes = {\n",
    "    (lon_from, lat_from): {'x': lon_from, 'y': lat_from},\n",
    "    (lon_to, lat_to): {'x': lon_to, 'y': lat_to}\n",
    "}\n",
    "\n",
    "my_edges = {\n",
    "    (lon_from, lat_from): {\n",
    "        (lon_to, lat_to): {\"weight\": 10, \"other_attr\": \"some_value\"}\n",
    "    },\n",
    "\n",
    "    (lon_to, lat_to): {\n",
    "        (lon_from, lat_from): {\"weight\": 10, \"other_attr\": \"some_value\"}\n",
    "    }\n",
    "}\n",
    "\n",
    "# Marnet\n",
    "myM = sr.from_nodes_edges_set(sr.Marnet(), my_nodes, my_edges)\n",
    "# Ports\n",
    "myP = sr.from_nodes_edges_set(sr.Ports(), my_nodes, None) \n",
    "\n",
    "# get shortest with your ports\n",
    "route_with_my_ports = sr.searoute(origin, destination, P = myP, include_ports=True)\n",
    "\n",
    "# get shortest with your ports\n",
    "route_with_my_ntw = sr.searoute(origin, destination, P = myP, M = myM )"
   ]
  },
  {
   "cell_type": "code",
   "execution_count": 114,
   "metadata": {},
   "outputs": [
    {
     "data": {
      "text/plain": [
       "{\"geometry\": {\"coordinates\": [[3.0489, 43.3524], [14.260143, 40.843073]], \"type\": \"LineString\"}, \"properties\": {\"duration_hours\": 21.717355747619642, \"length\": 965.2930282701979, \"units\": \"km\"}, \"type\": \"Feature\"}"
      ]
     },
     "execution_count": 114,
     "metadata": {},
     "output_type": "execute_result"
    }
   ],
   "source": [
    "route_with_my_ntw"
   ]
  }
 ],
 "metadata": {
  "kernelspec": {
   "display_name": ".venv",
   "language": "python",
   "name": "python3"
  },
  "language_info": {
   "name": "python",
   "version": "3.9.9"
  }
 },
 "nbformat": 4,
 "nbformat_minor": 2
}

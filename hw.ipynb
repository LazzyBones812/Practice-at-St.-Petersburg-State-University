{
 "cells": [
  {
   "cell_type": "markdown",
   "metadata": {},
   "source": [
    "**Еще пару источников**\n",
    "\n",
    " - https://pythongis.org/part2/chapter-09/nb/00-retrieving-osm-data.html#building-footprints - *прикольная отрисовка карты*\n",
    " - https://translated.turbopages.org/proxy_u/en-ru.ru.571ca6c5-6728deaf-4211189c-74722d776562/https/www.geeksforgeeks.org/directed-graphs-multigraphs-and-visualization-in-networkx/ - *Ориентированные графики, мультиграфы и визуализация в Networkx*"
   ]
  },
  {
   "cell_type": "markdown",
   "metadata": {},
   "source": [
    "**ПРОБЛЕМЫ**\n",
    "\n",
    " - Создавать двунаправленные графы\n",
    " - Разобраться с несоответствием нод\n",
    " - Нормально скомпоновать графы\n",
    "\n",
    " - Анализ графа и метрики\n",
    " - Преобразовать в какой-то вид - меры центральности итд\n",
    " - Отсечение путей ненужных\n",
    " - Отстроить граф на карте"
   ]
  },
  {
   "cell_type": "markdown",
   "metadata": {},
   "source": [
    "### ОСНОВНАЯ ДОКУМЕНТАЦИЯ\n",
    "\n",
    " - https://osmnx.readthedocs.io/en/stable/index.html\n",
    " - https://github.com/gboeing/osmnx-examples/tree/main/notebooks"
   ]
  },
  {
   "cell_type": "markdown",
   "metadata": {},
   "source": [
    "1. Реализовать выбор нескольких городов (из одного и другого города подтягиваются данные и найти пути между ними)\n",
    "2. Выбрать регион, а не город и выгружать данные\n",
    "3. Попробовать визуализировать данные \n",
    "\n",
    " - Подгрузка различных регионов и связей между ними"
   ]
  },
  {
   "cell_type": "markdown",
   "metadata": {},
   "source": [
    " - Роли\n",
    " - Созвоны\n",
    " - Репозиторий\n",
    "\n",
    " Построение транспортной сети регионов\n",
    " Крылатов Александр Юрьевич\n",
    " Криеев Сергей\n",
    "\n",
    " 15.10 - в 18:00 - мастер-класс от Газпрома - GPMCup - Zoom\n",
    "\n",
    " Сервис по анализу региональной транспортно-логистической системы\n",
    "\n",
    " - Вопросы по Issues Кирееву"
   ]
  },
  {
   "cell_type": "markdown",
   "metadata": {},
   "source": [
    "**Задание**\n",
    "\n",
    " - Граф с узлами с несвязанными между собой регионами \n",
    " - Загрузка в БД\n",
    "\n",
    " - Построить нужные нам маршруты (e-maxx)"
   ]
  },
  {
   "cell_type": "markdown",
   "metadata": {},
   "source": [
    "**ЕЩЕ**\n",
    "\n",
    "1. Клиент вводит название склада, куда он хочет отправить и откуда и город/страна куда и откуда (отрисовывать ли весь мир)\n",
    "2. Построить граф узлы - порты, ребра - связи с портами\n",
    "\n",
    "1. Разобраться как строить маршруты по небу/морю/ЖД - https://habr.com/ru/companies/timeweb/articles/665724/"
   ]
  },
  {
   "cell_type": "markdown",
   "metadata": {},
   "source": [
    "___"
   ]
  }
 ],
 "metadata": {
  "language_info": {
   "name": "python"
  }
 },
 "nbformat": 4,
 "nbformat_minor": 2
}
